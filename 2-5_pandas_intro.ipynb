{
 "cells": [
  {
   "cell_type": "code",
   "execution_count": 10,
   "id": "cf830587",
   "metadata": {},
   "outputs": [
    {
     "name": "stdout",
     "output_type": "stream",
     "text": [
      "<class 'pandas.core.frame.DataFrame'>\n",
      "RangeIndex: 3 entries, 0 to 2\n",
      "Data columns (total 3 columns):\n",
      " #   Column  Non-Null Count  Dtype  \n",
      "---  ------  --------------  -----  \n",
      " 0   col_1   3 non-null      int64  \n",
      " 1   col_2   2 non-null      float64\n",
      " 2   col_3   3 non-null      object \n",
      "dtypes: float64(1), int64(1), object(1)\n",
      "memory usage: 204.0+ bytes\n",
      "None\n"
     ]
    }
   ],
   "source": [
    "import pandas as pd\n",
    "import numpy as np\n",
    "\n",
    "my_df = pd.DataFrame(\n",
    "{\"col_1\": [1, 2, 3],\n",
    " \"col_2\": [20.4, 0, 120.8],\n",
    " \"col_3\": [\"A\",\"B\",\"C\"]}\n",
    ")\n",
    "\n",
    "my_df[\"col_2\"] = np.where(my_df[\"col_2\"] == 0,\n",
    "                         np.nan,\n",
    "                         my_df[\"col_2\"])\n",
    "print(my_df.info())"
   ]
  },
  {
   "cell_type": "code",
   "execution_count": 7,
   "id": "21342bac",
   "metadata": {},
   "outputs": [],
   "source": []
  },
  {
   "cell_type": "code",
   "execution_count": 1,
   "id": "0a9bd787",
   "metadata": {},
   "outputs": [
    {
     "name": "stdout",
     "output_type": "stream",
     "text": [
      "400\n",
      "400\n",
      "750\n",
      "750\n",
      "900\n",
      "900\n"
     ]
    }
   ],
   "source": [
    "amounts = [400, 750, 900]\n",
    "\n",
    "for each in amounts:\n",
    "    print(each)\n",
    "    each+10\n",
    "    print(each)"
   ]
  },
  {
   "cell_type": "code",
   "execution_count": null,
   "id": "de59d8ef",
   "metadata": {},
   "outputs": [],
   "source": []
  }
 ],
 "metadata": {
  "kernelspec": {
   "display_name": "Python 3 (ipykernel)",
   "language": "python",
   "name": "python3"
  },
  "language_info": {
   "codemirror_mode": {
    "name": "ipython",
    "version": 3
   },
   "file_extension": ".py",
   "mimetype": "text/x-python",
   "name": "python",
   "nbconvert_exporter": "python",
   "pygments_lexer": "ipython3",
   "version": "3.11.5"
  }
 },
 "nbformat": 4,
 "nbformat_minor": 5
}
