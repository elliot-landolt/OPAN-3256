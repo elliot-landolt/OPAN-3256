{
 "cells": [
  {
   "cell_type": "markdown",
   "id": "83d4caf3-928b-4c42-88fb-064ac79e72d7",
   "metadata": {},
   "source": [
    "# SQL Assignment\n",
    "## Elliot Landolt\n",
    "### 4/15/24\n",
    "\n",
    "#### Q1:\n",
    "---"
   ]
  },
  {
   "cell_type": "code",
   "execution_count": 1,
   "id": "cc0ab3f6-2135-4638-97c6-37d76046c497",
   "metadata": {},
   "outputs": [],
   "source": [
    "%load_ext sql\n",
    "%sql sqlite:///goodz.db"
   ]
  },
  {
   "cell_type": "code",
   "execution_count": 7,
   "id": "e981fcba-f22e-43c7-b198-340e5dee2636",
   "metadata": {},
   "outputs": [
    {
     "name": "stdout",
     "output_type": "stream",
     "text": [
      " * sqlite:///digtech_database.db\n",
      "Done.\n",
      "Done.\n"
     ]
    },
    {
     "data": {
      "text/plain": [
       "[]"
      ]
     },
     "execution_count": 7,
     "metadata": {},
     "output_type": "execute_result"
    }
   ],
   "source": [
    "%%sql\n",
    "CREATE TABLE orders(\n",
    "    order_ID INT PRIMARY KEY,\n",
    "    item_name VARCHAR(20),\n",
    "    price DOUBLE,\n",
    "    customer_ID INT,\n",
    "    FOREIGN KEY (customer_id) REFERENCES customers(customer_id));\n",
    "\n",
    "CREATE TABLE customers(\n",
    "    customer_ID INT PRIMARY KEY,\n",
    "    signup_year INT,\n",
    "    country VARCHAR(3),\n",
    "    age INT);"
   ]
  },
  {
   "cell_type": "markdown",
   "id": "b845d935-90c0-4232-8586-431994de2298",
   "metadata": {},
   "source": [
    "#### Q2:\n",
    "---\n",
    "\n",
    "Above is the code required to create two different tables within the same database. One table stores the orders, by ID, price, customer ID, and item name. The other table stores the customer data by customer ID, signup year, country, and age. The two primary keys are customer ID and Order ID, which are unique identifiers for each entry in the table. Since the customer ID exists in both tables, we can use it as a foreign key to bridge between the two tables."
   ]
  },
  {
   "cell_type": "markdown",
   "id": "f0b5c640-bc61-4684-8875-86676025bf51",
   "metadata": {},
   "source": [
    "#### Q3:\n",
    "---"
   ]
  },
  {
   "cell_type": "code",
   "execution_count": 8,
   "id": "1b0237e6-bc0e-47ff-9d06-6153cdd65cad",
   "metadata": {},
   "outputs": [
    {
     "name": "stdout",
     "output_type": "stream",
     "text": [
      " * sqlite:///digtech_database.db\n",
      "10 rows affected.\n"
     ]
    },
    {
     "data": {
      "text/plain": [
       "[]"
      ]
     },
     "execution_count": 8,
     "metadata": {},
     "output_type": "execute_result"
    }
   ],
   "source": [
    "%%sql\n",
    "INSERT INTO orders(order_ID, item_name, price, customer_ID)\n",
    "VALUES\n",
    "(100, \"Blender\", 45.66, 1001),\n",
    "(101, \"Blender\", 43.23, 1098),\n",
    "(102, \"Treadmill\", 765.76, 1009),\n",
    "(103, \"TV\", 954.33, 1045),\n",
    "(104, \"TV\", 476.60, 1009),\n",
    "(105, \"Lamp\", 26.75, 1009),\n",
    "(106, \"Laptop\", 1300.34, 1009),\n",
    "(107, \"TV\", 675.55, 1009),\n",
    "(108, \"Treadmill\", 886.87, 1009),\n",
    "(109, \"Treadmill\", 1987.54, 1009);"
   ]
  },
  {
   "cell_type": "markdown",
   "id": "aa2bc753-8730-43de-bc6e-0102e50ce1b7",
   "metadata": {},
   "source": [
    "#### Q4:\n",
    "---"
   ]
  },
  {
   "cell_type": "code",
   "execution_count": 9,
   "id": "332cdeb5-e795-45b0-8488-2fcabd4c0e41",
   "metadata": {},
   "outputs": [
    {
     "name": "stdout",
     "output_type": "stream",
     "text": [
      " * sqlite:///digtech_database.db\n",
      "10 rows affected.\n"
     ]
    },
    {
     "data": {
      "text/plain": [
       "[]"
      ]
     },
     "execution_count": 9,
     "metadata": {},
     "output_type": "execute_result"
    }
   ],
   "source": [
    "%%sql\n",
    "INSERT INTO customers(customer_ID, signup_year, country, age)\n",
    "VALUES\n",
    "(1000, 2004, \"USA\", 63),\n",
    "(1001, 2008, \"FR\", 44),\n",
    "(1002, 2010, \"UK\", 76),\n",
    "(1003, 2018, \"FR\", 28),\n",
    "(1004, 2001, \"FR\", 71),\n",
    "(1005, 2015, \"USA\", 25),\n",
    "(1006, 2017, \"USA\", 58),\n",
    "(1007, 2009, \"USA\", 51),\n",
    "(1008, 2020, \"UK\", 48),\n",
    "(1009, 2017, \"USA\", 42);"
   ]
  },
  {
   "cell_type": "markdown",
   "id": "279cbe00-6931-41e0-988f-d1c532b68c25",
   "metadata": {},
   "source": [
    "#### Q5:\n",
    "---"
   ]
  },
  {
   "cell_type": "code",
   "execution_count": 10,
   "id": "b443f847-c939-4b0e-937f-9d4d115cc7f5",
   "metadata": {},
   "outputs": [
    {
     "name": "stdout",
     "output_type": "stream",
     "text": [
      " * sqlite:///digtech_database.db\n",
      "Done.\n"
     ]
    },
    {
     "data": {
      "text/html": [
       "<table>\n",
       "    <thead>\n",
       "        <tr>\n",
       "            <th>order_ID</th>\n",
       "            <th>item_name</th>\n",
       "            <th>price</th>\n",
       "            <th>customer_ID</th>\n",
       "        </tr>\n",
       "    </thead>\n",
       "    <tbody>\n",
       "        <tr>\n",
       "            <td>100</td>\n",
       "            <td>Blender</td>\n",
       "            <td>45.66</td>\n",
       "            <td>1001</td>\n",
       "        </tr>\n",
       "        <tr>\n",
       "            <td>101</td>\n",
       "            <td>Blender</td>\n",
       "            <td>43.23</td>\n",
       "            <td>1098</td>\n",
       "        </tr>\n",
       "        <tr>\n",
       "            <td>102</td>\n",
       "            <td>Treadmill</td>\n",
       "            <td>765.76</td>\n",
       "            <td>1009</td>\n",
       "        </tr>\n",
       "        <tr>\n",
       "            <td>103</td>\n",
       "            <td>TV</td>\n",
       "            <td>954.33</td>\n",
       "            <td>1045</td>\n",
       "        </tr>\n",
       "        <tr>\n",
       "            <td>104</td>\n",
       "            <td>TV</td>\n",
       "            <td>476.6</td>\n",
       "            <td>1009</td>\n",
       "        </tr>\n",
       "        <tr>\n",
       "            <td>105</td>\n",
       "            <td>Lamp</td>\n",
       "            <td>26.75</td>\n",
       "            <td>1009</td>\n",
       "        </tr>\n",
       "        <tr>\n",
       "            <td>106</td>\n",
       "            <td>Laptop</td>\n",
       "            <td>1300.34</td>\n",
       "            <td>1009</td>\n",
       "        </tr>\n",
       "        <tr>\n",
       "            <td>107</td>\n",
       "            <td>TV</td>\n",
       "            <td>675.55</td>\n",
       "            <td>1009</td>\n",
       "        </tr>\n",
       "        <tr>\n",
       "            <td>108</td>\n",
       "            <td>Treadmill</td>\n",
       "            <td>886.87</td>\n",
       "            <td>1009</td>\n",
       "        </tr>\n",
       "        <tr>\n",
       "            <td>109</td>\n",
       "            <td>Treadmill</td>\n",
       "            <td>1987.54</td>\n",
       "            <td>1009</td>\n",
       "        </tr>\n",
       "    </tbody>\n",
       "</table>"
      ],
      "text/plain": [
       "[(100, 'Blender', 45.66, 1001),\n",
       " (101, 'Blender', 43.23, 1098),\n",
       " (102, 'Treadmill', 765.76, 1009),\n",
       " (103, 'TV', 954.33, 1045),\n",
       " (104, 'TV', 476.6, 1009),\n",
       " (105, 'Lamp', 26.75, 1009),\n",
       " (106, 'Laptop', 1300.34, 1009),\n",
       " (107, 'TV', 675.55, 1009),\n",
       " (108, 'Treadmill', 886.87, 1009),\n",
       " (109, 'Treadmill', 1987.54, 1009)]"
      ]
     },
     "execution_count": 10,
     "metadata": {},
     "output_type": "execute_result"
    }
   ],
   "source": [
    "%%sql\n",
    "SELECT *\n",
    "FROM orders;"
   ]
  },
  {
   "cell_type": "markdown",
   "id": "100d650c-3b64-4549-8a7b-3e820a32c11c",
   "metadata": {},
   "source": [
    "#### Q6:\n",
    "---"
   ]
  },
  {
   "cell_type": "code",
   "execution_count": 11,
   "id": "13206426-7fc8-4a17-84d6-4e5e2415689e",
   "metadata": {},
   "outputs": [
    {
     "name": "stdout",
     "output_type": "stream",
     "text": [
      " * sqlite:///digtech_database.db\n",
      "Done.\n"
     ]
    },
    {
     "data": {
      "text/html": [
       "<table>\n",
       "    <thead>\n",
       "        <tr>\n",
       "            <th>order_ID</th>\n",
       "            <th>item_name</th>\n",
       "            <th>price</th>\n",
       "            <th>customer_ID</th>\n",
       "        </tr>\n",
       "    </thead>\n",
       "    <tbody>\n",
       "        <tr>\n",
       "            <td>100</td>\n",
       "            <td>Blender</td>\n",
       "            <td>45.66</td>\n",
       "            <td>1001</td>\n",
       "        </tr>\n",
       "        <tr>\n",
       "            <td>101</td>\n",
       "            <td>Blender</td>\n",
       "            <td>43.23</td>\n",
       "            <td>1098</td>\n",
       "        </tr>\n",
       "        <tr>\n",
       "            <td>102</td>\n",
       "            <td>Treadmill</td>\n",
       "            <td>765.76</td>\n",
       "            <td>1009</td>\n",
       "        </tr>\n",
       "        <tr>\n",
       "            <td>103</td>\n",
       "            <td>TV</td>\n",
       "            <td>954.33</td>\n",
       "            <td>1045</td>\n",
       "        </tr>\n",
       "    </tbody>\n",
       "</table>"
      ],
      "text/plain": [
       "[(100, 'Blender', 45.66, 1001),\n",
       " (101, 'Blender', 43.23, 1098),\n",
       " (102, 'Treadmill', 765.76, 1009),\n",
       " (103, 'TV', 954.33, 1045)]"
      ]
     },
     "execution_count": 11,
     "metadata": {},
     "output_type": "execute_result"
    }
   ],
   "source": [
    "%%sql\n",
    "SELECT *\n",
    "FROM orders\n",
    "LIMIT 4;"
   ]
  },
  {
   "cell_type": "markdown",
   "id": "3f7f86c0-5d2f-40b7-99e9-9d207b50347e",
   "metadata": {},
   "source": [
    "#### Q7:\n",
    "---"
   ]
  },
  {
   "cell_type": "code",
   "execution_count": 20,
   "id": "5785c988-8991-4cf9-be84-1a932b1744e1",
   "metadata": {},
   "outputs": [
    {
     "name": "stdout",
     "output_type": "stream",
     "text": [
      " * sqlite:///digtech_database.db\n",
      "Done.\n"
     ]
    },
    {
     "data": {
      "text/html": [
       "<table>\n",
       "    <thead>\n",
       "        <tr>\n",
       "            <th>signup_year</th>\n",
       "            <th>country</th>\n",
       "            <th>age</th>\n",
       "        </tr>\n",
       "    </thead>\n",
       "    <tbody>\n",
       "        <tr>\n",
       "            <td>2010</td>\n",
       "            <td>UK</td>\n",
       "            <td>76</td>\n",
       "        </tr>\n",
       "        <tr>\n",
       "            <td>2020</td>\n",
       "            <td>UK</td>\n",
       "            <td>48</td>\n",
       "        </tr>\n",
       "    </tbody>\n",
       "</table>"
      ],
      "text/plain": [
       "[(2010, 'UK', 76), (2020, 'UK', 48)]"
      ]
     },
     "execution_count": 20,
     "metadata": {},
     "output_type": "execute_result"
    }
   ],
   "source": [
    "%%sql\n",
    "SELECT signup_year, country, age\n",
    "FROM customers\n",
    "WHERE country = \"UK\";"
   ]
  },
  {
   "cell_type": "markdown",
   "id": "657c316d-543c-4356-9337-51a2c083d18d",
   "metadata": {},
   "source": [
    "#### Q8:\n",
    "---\n",
    "\n",
    "The mean age is 47.8 years old."
   ]
  },
  {
   "cell_type": "code",
   "execution_count": 19,
   "id": "156a6e2a-c3d0-43ff-a43d-5542d505ee8d",
   "metadata": {},
   "outputs": [
    {
     "name": "stdout",
     "output_type": "stream",
     "text": [
      " * sqlite:///digtech_database.db\n",
      "Done.\n"
     ]
    },
    {
     "data": {
      "text/html": [
       "<table>\n",
       "    <thead>\n",
       "        <tr>\n",
       "            <th>AVG(age)</th>\n",
       "        </tr>\n",
       "    </thead>\n",
       "    <tbody>\n",
       "        <tr>\n",
       "            <td>47.8</td>\n",
       "        </tr>\n",
       "    </tbody>\n",
       "</table>"
      ],
      "text/plain": [
       "[(47.8,)]"
      ]
     },
     "execution_count": 19,
     "metadata": {},
     "output_type": "execute_result"
    }
   ],
   "source": [
    "%%sql\n",
    "SELECT AVG(age)\n",
    "FROM customers\n",
    "WHERE country = \"USA\";"
   ]
  },
  {
   "cell_type": "markdown",
   "id": "b0ebe5bb-a335-48b8-bd10-0e48f74ec8c5",
   "metadata": {},
   "source": [
    "#### Q9:\n",
    "---\n",
    "\n",
    "3 treadmills have been sold."
   ]
  },
  {
   "cell_type": "code",
   "execution_count": 22,
   "id": "d411f942-9847-4044-8b7d-4c51527a3136",
   "metadata": {},
   "outputs": [
    {
     "name": "stdout",
     "output_type": "stream",
     "text": [
      " * sqlite:///digtech_database.db\n",
      "Done.\n"
     ]
    },
    {
     "data": {
      "text/html": [
       "<table>\n",
       "    <thead>\n",
       "        <tr>\n",
       "            <th>treadmills_sold</th>\n",
       "        </tr>\n",
       "    </thead>\n",
       "    <tbody>\n",
       "        <tr>\n",
       "            <td>3</td>\n",
       "        </tr>\n",
       "    </tbody>\n",
       "</table>"
      ],
      "text/plain": [
       "[(3,)]"
      ]
     },
     "execution_count": 22,
     "metadata": {},
     "output_type": "execute_result"
    }
   ],
   "source": [
    "%%sql\n",
    "SELECT COUNT(*) AS treadmills_sold\n",
    "FROM orders\n",
    "WHERE item_name = \"Treadmill\";"
   ]
  },
  {
   "cell_type": "markdown",
   "id": "3e1618f3-2163-4efb-8c48-f1a4db3a1170",
   "metadata": {},
   "source": [
    "#### Q10:\n",
    "---"
   ]
  },
  {
   "cell_type": "code",
   "execution_count": 25,
   "id": "038e264c-fb8c-4e6a-8245-56dacb67d1ef",
   "metadata": {},
   "outputs": [
    {
     "name": "stdout",
     "output_type": "stream",
     "text": [
      " * sqlite:///digtech_database.db\n",
      "Done.\n"
     ]
    },
    {
     "data": {
      "text/html": [
       "<table>\n",
       "    <thead>\n",
       "        <tr>\n",
       "            <th>MIN(age)</th>\n",
       "        </tr>\n",
       "    </thead>\n",
       "    <tbody>\n",
       "        <tr>\n",
       "            <td>25</td>\n",
       "        </tr>\n",
       "    </tbody>\n",
       "</table>"
      ],
      "text/plain": [
       "[(25,)]"
      ]
     },
     "execution_count": 25,
     "metadata": {},
     "output_type": "execute_result"
    }
   ],
   "source": [
    "%%sql\n",
    "SELECT MIN(age)\n",
    "FROM customers\n",
    "WHERE country = \"USA\";"
   ]
  },
  {
   "cell_type": "markdown",
   "id": "6d8cba8c-3873-4c0f-a6f1-e6a520a0b554",
   "metadata": {},
   "source": [
    "#### Q11:\n",
    "---"
   ]
  },
  {
   "cell_type": "code",
   "execution_count": 26,
   "id": "4926e636-58c8-4bee-98fe-41d60e4ef5ee",
   "metadata": {},
   "outputs": [
    {
     "name": "stdout",
     "output_type": "stream",
     "text": [
      " * sqlite:///digtech_database.db\n",
      "Done.\n"
     ]
    },
    {
     "data": {
      "text/html": [
       "<table>\n",
       "    <thead>\n",
       "        <tr>\n",
       "            <th>country</th>\n",
       "            <th>AVG(age)</th>\n",
       "        </tr>\n",
       "    </thead>\n",
       "    <tbody>\n",
       "        <tr>\n",
       "            <td>FR</td>\n",
       "            <td>47.666666666666664</td>\n",
       "        </tr>\n",
       "        <tr>\n",
       "            <td>UK</td>\n",
       "            <td>62.0</td>\n",
       "        </tr>\n",
       "        <tr>\n",
       "            <td>USA</td>\n",
       "            <td>47.8</td>\n",
       "        </tr>\n",
       "    </tbody>\n",
       "</table>"
      ],
      "text/plain": [
       "[('FR', 47.666666666666664), ('UK', 62.0), ('USA', 47.8)]"
      ]
     },
     "execution_count": 26,
     "metadata": {},
     "output_type": "execute_result"
    }
   ],
   "source": [
    "%%sql\n",
    "SELECT country, AVG(age)\n",
    "FROM customers\n",
    "GROUP BY country;"
   ]
  },
  {
   "cell_type": "markdown",
   "id": "e811ba45-914b-42b5-8146-a2423761d37d",
   "metadata": {},
   "source": [
    "#### Q12:\n",
    "---"
   ]
  },
  {
   "cell_type": "code",
   "execution_count": 28,
   "id": "bf537c9f-e426-4615-a0a2-4bfcce57a6bc",
   "metadata": {},
   "outputs": [
    {
     "name": "stdout",
     "output_type": "stream",
     "text": [
      " * sqlite:///digtech_database.db\n",
      "Done.\n"
     ]
    },
    {
     "data": {
      "text/html": [
       "<table>\n",
       "    <thead>\n",
       "        <tr>\n",
       "            <th>item_name</th>\n",
       "            <th>avg_price</th>\n",
       "        </tr>\n",
       "    </thead>\n",
       "    <tbody>\n",
       "        <tr>\n",
       "            <td>Laptop</td>\n",
       "            <td>1300.34</td>\n",
       "        </tr>\n",
       "        <tr>\n",
       "            <td>Treadmill</td>\n",
       "            <td>1213.39</td>\n",
       "        </tr>\n",
       "        <tr>\n",
       "            <td>TV</td>\n",
       "            <td>702.16</td>\n",
       "        </tr>\n",
       "        <tr>\n",
       "            <td>Blender</td>\n",
       "            <td>44.44499999999999</td>\n",
       "        </tr>\n",
       "        <tr>\n",
       "            <td>Lamp</td>\n",
       "            <td>26.75</td>\n",
       "        </tr>\n",
       "    </tbody>\n",
       "</table>"
      ],
      "text/plain": [
       "[('Laptop', 1300.34),\n",
       " ('Treadmill', 1213.39),\n",
       " ('TV', 702.16),\n",
       " ('Blender', 44.44499999999999),\n",
       " ('Lamp', 26.75)]"
      ]
     },
     "execution_count": 28,
     "metadata": {},
     "output_type": "execute_result"
    }
   ],
   "source": [
    "%%sql\n",
    "SELECT item_name, AVG(price) AS avg_price\n",
    "FROM orders\n",
    "GROUP BY item_name\n",
    "ORDER BY avg_price DESC;"
   ]
  },
  {
   "cell_type": "markdown",
   "id": "050371cc-1291-47bb-a355-6f981d157fc3",
   "metadata": {},
   "source": [
    "#### Q13:\n",
    "---"
   ]
  },
  {
   "cell_type": "code",
   "execution_count": 30,
   "id": "7a0a38e5-92a5-4ffe-8671-6317b39b8ab0",
   "metadata": {},
   "outputs": [
    {
     "name": "stdout",
     "output_type": "stream",
     "text": [
      " * sqlite:///digtech_database.db\n",
      "Done.\n"
     ]
    },
    {
     "data": {
      "text/html": [
       "<table>\n",
       "    <thead>\n",
       "        <tr>\n",
       "            <th>item_name</th>\n",
       "            <th>avg_price</th>\n",
       "        </tr>\n",
       "    </thead>\n",
       "    <tbody>\n",
       "        <tr>\n",
       "            <td>Laptop</td>\n",
       "            <td>1300.34</td>\n",
       "        </tr>\n",
       "        <tr>\n",
       "            <td>Treadmill</td>\n",
       "            <td>1213.39</td>\n",
       "        </tr>\n",
       "    </tbody>\n",
       "</table>"
      ],
      "text/plain": [
       "[('Laptop', 1300.34), ('Treadmill', 1213.39)]"
      ]
     },
     "execution_count": 30,
     "metadata": {},
     "output_type": "execute_result"
    }
   ],
   "source": [
    "%%sql\n",
    "SELECT item_name, AVG(price) AS avg_price\n",
    "FROM orders\n",
    "GROUP BY item_name\n",
    "HAVING avg_price > 1000.00\n",
    "ORDER BY avg_price DESC;"
   ]
  },
  {
   "cell_type": "markdown",
   "id": "c3881ed1-d0cd-44f1-b7e4-031af32b63e3",
   "metadata": {},
   "source": [
    "#### 14:\n",
    "---"
   ]
  },
  {
   "cell_type": "code",
   "execution_count": 31,
   "id": "5624dc58-a849-4642-bc40-a17dcefb4867",
   "metadata": {},
   "outputs": [
    {
     "name": "stdout",
     "output_type": "stream",
     "text": [
      " * sqlite:///digtech_database.db\n",
      "Done.\n"
     ]
    },
    {
     "data": {
      "text/html": [
       "<table>\n",
       "    <thead>\n",
       "        <tr>\n",
       "            <th>item_name</th>\n",
       "            <th>price</th>\n",
       "        </tr>\n",
       "    </thead>\n",
       "    <tbody>\n",
       "        <tr>\n",
       "            <td>Blender</td>\n",
       "            <td>45.66</td>\n",
       "        </tr>\n",
       "        <tr>\n",
       "            <td>Blender</td>\n",
       "            <td>43.23</td>\n",
       "        </tr>\n",
       "        <tr>\n",
       "            <td>Treadmill</td>\n",
       "            <td>765.76</td>\n",
       "        </tr>\n",
       "        <tr>\n",
       "            <td>TV</td>\n",
       "            <td>954.33</td>\n",
       "        </tr>\n",
       "        <tr>\n",
       "            <td>TV</td>\n",
       "            <td>476.6</td>\n",
       "        </tr>\n",
       "        <tr>\n",
       "            <td>Lamp</td>\n",
       "            <td>26.75</td>\n",
       "        </tr>\n",
       "        <tr>\n",
       "            <td>TV</td>\n",
       "            <td>675.55</td>\n",
       "        </tr>\n",
       "        <tr>\n",
       "            <td>Treadmill</td>\n",
       "            <td>886.87</td>\n",
       "        </tr>\n",
       "        <tr>\n",
       "            <td>Treadmill</td>\n",
       "            <td>1987.54</td>\n",
       "        </tr>\n",
       "    </tbody>\n",
       "</table>"
      ],
      "text/plain": [
       "[('Blender', 45.66),\n",
       " ('Blender', 43.23),\n",
       " ('Treadmill', 765.76),\n",
       " ('TV', 954.33),\n",
       " ('TV', 476.6),\n",
       " ('Lamp', 26.75),\n",
       " ('TV', 675.55),\n",
       " ('Treadmill', 886.87),\n",
       " ('Treadmill', 1987.54)]"
      ]
     },
     "execution_count": 31,
     "metadata": {},
     "output_type": "execute_result"
    }
   ],
   "source": [
    "%%sql\n",
    "SELECT item_name, price\n",
    "FROM orders\n",
    "WHERE item_name LIKE 'T%' OR price < 100.00;"
   ]
  },
  {
   "cell_type": "markdown",
   "id": "3aaba0db-c706-4116-bbb8-afa4c8fc7f64",
   "metadata": {},
   "source": [
    "#### Q15:\n",
    "---\n",
    "\n",
    "The WHERE term is used to filter rows from the original dataset based on specified conditions before any grouping or aggregation occurs.\n",
    "It is typically used with the SELECT, UPDATE, and DELETE statements. The HAVING clause is used to filter rows after grouping has occurred, typically when aggregate functions (e.g., SUM, AVG, COUNT) are used in the query. It is used in conjunction with the GROUP BY clause."
   ]
  }
 ],
 "metadata": {
  "kernelspec": {
   "display_name": "Python 3 (ipykernel)",
   "language": "python",
   "name": "python3"
  },
  "language_info": {
   "codemirror_mode": {
    "name": "ipython",
    "version": 3
   },
   "file_extension": ".py",
   "mimetype": "text/x-python",
   "name": "python",
   "nbconvert_exporter": "python",
   "pygments_lexer": "ipython3",
   "version": "3.11.7"
  }
 },
 "nbformat": 4,
 "nbformat_minor": 5
}
