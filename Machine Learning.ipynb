{
 "cells": [
  {
   "cell_type": "markdown",
   "id": "6ab8f7c9",
   "metadata": {},
   "source": [
    "#### Import Packages\n",
    "---"
   ]
  },
  {
   "cell_type": "code",
   "execution_count": 1,
   "id": "abd09924",
   "metadata": {},
   "outputs": [],
   "source": [
    "import pandas as pd\n",
    "import numpy as np\n",
    "import altair as alt\n",
    "from sklearn.linear_model import LogisticRegression\n",
    "from sklearn.model_selection import train_test_split\n",
    "from sklearn.metrics import classification_report\n",
    "from sklearn.metrics import confusion_matrix"
   ]
  },
  {
   "cell_type": "markdown",
   "id": "465af49c",
   "metadata": {},
   "source": [
    "#### Q1:\n",
    "---"
   ]
  },
  {
   "cell_type": "code",
   "execution_count": 2,
   "id": "a080b26d",
   "metadata": {},
   "outputs": [
    {
     "name": "stdout",
     "output_type": "stream",
     "text": [
      "(1502, 89)\n"
     ]
    }
   ],
   "source": [
    "s = pd.read_csv(\"social_media_usage.csv\")\n",
    "print(s.shape)"
   ]
  },
  {
   "cell_type": "markdown",
   "id": "a55b32da",
   "metadata": {},
   "source": [
    "#### Q2:\n",
    "---"
   ]
  },
  {
   "cell_type": "code",
   "execution_count": 3,
   "id": "e2e43075",
   "metadata": {
    "scrolled": true
   },
   "outputs": [
    {
     "name": "stdout",
     "output_type": "stream",
     "text": [
      "   A  test\n",
      "0  1     1\n",
      "1  0     0\n",
      "2  1     1\n"
     ]
    }
   ],
   "source": [
    "def clean_sm(x):\n",
    "    return np.where(x == 1, 1, 0)\n",
    "\n",
    "\n",
    "toy_df = pd.DataFrame({'A':[1,0,1]})\n",
    "toy_df['test'] = clean_sm(toy_df['A'])\n",
    "print(toy_df)"
   ]
  },
  {
   "cell_type": "markdown",
   "id": "509694ed",
   "metadata": {},
   "source": [
    "#### Q3:\n",
    "---"
   ]
  },
  {
   "cell_type": "code",
   "execution_count": 4,
   "id": "9dac1517",
   "metadata": {},
   "outputs": [
    {
     "data": {
      "text/html": [
       "\n",
       "<style>\n",
       "  #altair-viz-d8099b2c81024236aa7fff885486a26c.vega-embed {\n",
       "    width: 100%;\n",
       "    display: flex;\n",
       "  }\n",
       "\n",
       "  #altair-viz-d8099b2c81024236aa7fff885486a26c.vega-embed details,\n",
       "  #altair-viz-d8099b2c81024236aa7fff885486a26c.vega-embed details summary {\n",
       "    position: relative;\n",
       "  }\n",
       "</style>\n",
       "<div id=\"altair-viz-d8099b2c81024236aa7fff885486a26c\"></div>\n",
       "<script type=\"text/javascript\">\n",
       "  var VEGA_DEBUG = (typeof VEGA_DEBUG == \"undefined\") ? {} : VEGA_DEBUG;\n",
       "  (function(spec, embedOpt){\n",
       "    let outputDiv = document.currentScript.previousElementSibling;\n",
       "    if (outputDiv.id !== \"altair-viz-d8099b2c81024236aa7fff885486a26c\") {\n",
       "      outputDiv = document.getElementById(\"altair-viz-d8099b2c81024236aa7fff885486a26c\");\n",
       "    }\n",
       "    const paths = {\n",
       "      \"vega\": \"https://cdn.jsdelivr.net/npm/vega@5?noext\",\n",
       "      \"vega-lib\": \"https://cdn.jsdelivr.net/npm/vega-lib?noext\",\n",
       "      \"vega-lite\": \"https://cdn.jsdelivr.net/npm/vega-lite@5.16.3?noext\",\n",
       "      \"vega-embed\": \"https://cdn.jsdelivr.net/npm/vega-embed@6?noext\",\n",
       "    };\n",
       "\n",
       "    function maybeLoadScript(lib, version) {\n",
       "      var key = `${lib.replace(\"-\", \"\")}_version`;\n",
       "      return (VEGA_DEBUG[key] == version) ?\n",
       "        Promise.resolve(paths[lib]) :\n",
       "        new Promise(function(resolve, reject) {\n",
       "          var s = document.createElement('script');\n",
       "          document.getElementsByTagName(\"head\")[0].appendChild(s);\n",
       "          s.async = true;\n",
       "          s.onload = () => {\n",
       "            VEGA_DEBUG[key] = version;\n",
       "            return resolve(paths[lib]);\n",
       "          };\n",
       "          s.onerror = () => reject(`Error loading script: ${paths[lib]}`);\n",
       "          s.src = paths[lib];\n",
       "        });\n",
       "    }\n",
       "\n",
       "    function showError(err) {\n",
       "      outputDiv.innerHTML = `<div class=\"error\" style=\"color:red;\">${err}</div>`;\n",
       "      throw err;\n",
       "    }\n",
       "\n",
       "    function displayChart(vegaEmbed) {\n",
       "      vegaEmbed(outputDiv, spec, embedOpt)\n",
       "        .catch(err => showError(`Javascript Error: ${err.message}<br>This usually means there's a typo in your chart specification. See the javascript console for the full traceback.`));\n",
       "    }\n",
       "\n",
       "    if(typeof define === \"function\" && define.amd) {\n",
       "      requirejs.config({paths});\n",
       "      require([\"vega-embed\"], displayChart, err => showError(`Error loading script: ${err.message}`));\n",
       "    } else {\n",
       "      maybeLoadScript(\"vega\", \"5\")\n",
       "        .then(() => maybeLoadScript(\"vega-lite\", \"5.16.3\"))\n",
       "        .then(() => maybeLoadScript(\"vega-embed\", \"6\"))\n",
       "        .catch(showError)\n",
       "        .then(() => displayChart(vegaEmbed));\n",
       "    }\n",
       "  })({\"config\": {\"view\": {\"continuousWidth\": 300, \"continuousHeight\": 300}}, \"data\": {\"name\": \"data-671212541edd6d29b85bf76b6865ba24\"}, \"mark\": {\"type\": \"circle\"}, \"encoding\": {\"color\": {\"field\": \"sm_li\", \"type\": \"nominal\"}, \"x\": {\"field\": \"age\", \"type\": \"quantitative\"}, \"y\": {\"field\": \"income\", \"type\": \"quantitative\"}}, \"$schema\": \"https://vega.github.io/schema/vega-lite/v5.16.3.json\", \"datasets\": {\"data-671212541edd6d29b85bf76b6865ba24\": [{\"age\": 18.0, \"sm_li\": 0, \"income\": 5.555555555555555}, {\"age\": 18.0, \"sm_li\": 1, \"income\": 9.0}, {\"age\": 19.0, \"sm_li\": 0, \"income\": 6.6}, {\"age\": 19.0, \"sm_li\": 1, \"income\": 6.5}, {\"age\": 20.0, \"sm_li\": 0, \"income\": 5.3}, {\"age\": 20.0, \"sm_li\": 1, \"income\": 7.0}, {\"age\": 21.0, \"sm_li\": 0, \"income\": 5.6}, {\"age\": 21.0, \"sm_li\": 1, \"income\": 8.333333333333334}, {\"age\": 22.0, \"sm_li\": 0, \"income\": 3.1538461538461537}, {\"age\": 22.0, \"sm_li\": 1, \"income\": 5.625}, {\"age\": 23.0, \"sm_li\": 0, \"income\": 4.0}, {\"age\": 23.0, \"sm_li\": 1, \"income\": 5.454545454545454}, {\"age\": 24.0, \"sm_li\": 0, \"income\": 4.9}, {\"age\": 24.0, \"sm_li\": 1, \"income\": 6.6}, {\"age\": 25.0, \"sm_li\": 0, \"income\": 4.642857142857143}, {\"age\": 25.0, \"sm_li\": 1, \"income\": 5.25}, {\"age\": 26.0, \"sm_li\": 0, \"income\": 5.0}, {\"age\": 26.0, \"sm_li\": 1, \"income\": 4.428571428571429}, {\"age\": 27.0, \"sm_li\": 0, \"income\": 4.0}, {\"age\": 27.0, \"sm_li\": 1, \"income\": 5.571428571428571}, {\"age\": 28.0, \"sm_li\": 0, \"income\": 3.2142857142857144}, {\"age\": 28.0, \"sm_li\": 1, \"income\": 7.125}, {\"age\": 29.0, \"sm_li\": 0, \"income\": 4.6}, {\"age\": 30.0, \"sm_li\": 0, \"income\": 5.857142857142857}, {\"age\": 30.0, \"sm_li\": 1, \"income\": 6.375}, {\"age\": 31.0, \"sm_li\": 0, \"income\": 5.5}, {\"age\": 31.0, \"sm_li\": 1, \"income\": 6.333333333333333}, {\"age\": 32.0, \"sm_li\": 0, \"income\": 4.3125}, {\"age\": 32.0, \"sm_li\": 1, \"income\": 7.0}, {\"age\": 33.0, \"sm_li\": 0, \"income\": 4.0}, {\"age\": 33.0, \"sm_li\": 1, \"income\": 7.5}, {\"age\": 34.0, \"sm_li\": 0, \"income\": 6.0}, {\"age\": 34.0, \"sm_li\": 1, \"income\": 6.777777777777778}, {\"age\": 35.0, \"sm_li\": 0, \"income\": 5.363636363636363}, {\"age\": 35.0, \"sm_li\": 1, \"income\": 7.3}, {\"age\": 36.0, \"sm_li\": 0, \"income\": 4.818181818181818}, {\"age\": 36.0, \"sm_li\": 1, \"income\": 6.4}, {\"age\": 37.0, \"sm_li\": 0, \"income\": 5.384615384615385}, {\"age\": 37.0, \"sm_li\": 1, \"income\": 8.142857142857142}, {\"age\": 38.0, \"sm_li\": 0, \"income\": 5.555555555555555}, {\"age\": 38.0, \"sm_li\": 1, \"income\": 7.333333333333333}, {\"age\": 39.0, \"sm_li\": 0, \"income\": 4.333333333333333}, {\"age\": 39.0, \"sm_li\": 1, \"income\": 7.75}, {\"age\": 40.0, \"sm_li\": 0, \"income\": 5.217391304347826}, {\"age\": 40.0, \"sm_li\": 1, \"income\": 7.5}, {\"age\": 41.0, \"sm_li\": 0, \"income\": 5.0}, {\"age\": 41.0, \"sm_li\": 1, \"income\": 5.75}, {\"age\": 42.0, \"sm_li\": 0, \"income\": 5.888888888888889}, {\"age\": 42.0, \"sm_li\": 1, \"income\": 5.8}, {\"age\": 43.0, \"sm_li\": 0, \"income\": 6.3}, {\"age\": 43.0, \"sm_li\": 1, \"income\": 6.6}, {\"age\": 44.0, \"sm_li\": 0, \"income\": 6.166666666666667}, {\"age\": 44.0, \"sm_li\": 1, \"income\": 7.454545454545454}, {\"age\": 45.0, \"sm_li\": 0, \"income\": 6.416666666666667}, {\"age\": 45.0, \"sm_li\": 1, \"income\": 7.142857142857143}, {\"age\": 46.0, \"sm_li\": 0, \"income\": 6.75}, {\"age\": 46.0, \"sm_li\": 1, \"income\": 6.222222222222222}, {\"age\": 47.0, \"sm_li\": 0, \"income\": 5.545454545454546}, {\"age\": 47.0, \"sm_li\": 1, \"income\": 6.125}, {\"age\": 48.0, \"sm_li\": 0, \"income\": 5.6875}, {\"age\": 48.0, \"sm_li\": 1, \"income\": 6.75}, {\"age\": 49.0, \"sm_li\": 0, \"income\": 7.285714285714286}, {\"age\": 49.0, \"sm_li\": 1, \"income\": 7.5}, {\"age\": 50.0, \"sm_li\": 0, \"income\": 4.363636363636363}, {\"age\": 50.0, \"sm_li\": 1, \"income\": 7.5}, {\"age\": 51.0, \"sm_li\": 0, \"income\": 5.4}, {\"age\": 51.0, \"sm_li\": 1, \"income\": 7.4}, {\"age\": 52.0, \"sm_li\": 0, \"income\": 5.333333333333333}, {\"age\": 52.0, \"sm_li\": 1, \"income\": 7.5}, {\"age\": 53.0, \"sm_li\": 0, \"income\": 5.0}, {\"age\": 53.0, \"sm_li\": 1, \"income\": 7.333333333333333}, {\"age\": 54.0, \"sm_li\": 0, \"income\": 6.25}, {\"age\": 54.0, \"sm_li\": 1, \"income\": 7.75}, {\"age\": 55.0, \"sm_li\": 0, \"income\": 5.384615384615385}, {\"age\": 55.0, \"sm_li\": 1, \"income\": 8.25}, {\"age\": 56.0, \"sm_li\": 0, \"income\": 5.5}, {\"age\": 56.0, \"sm_li\": 1, \"income\": 8.11111111111111}, {\"age\": 57.0, \"sm_li\": 0, \"income\": 5.8}, {\"age\": 57.0, \"sm_li\": 1, \"income\": 7.285714285714286}, {\"age\": 58.0, \"sm_li\": 0, \"income\": 4.857142857142857}, {\"age\": 58.0, \"sm_li\": 1, \"income\": 7.181818181818182}, {\"age\": 59.0, \"sm_li\": 0, \"income\": 5.285714285714286}, {\"age\": 59.0, \"sm_li\": 1, \"income\": 7.7}, {\"age\": 60.0, \"sm_li\": 0, \"income\": 5.161290322580645}, {\"age\": 60.0, \"sm_li\": 1, \"income\": 7.75}, {\"age\": 61.0, \"sm_li\": 0, \"income\": 5.7}, {\"age\": 61.0, \"sm_li\": 1, \"income\": 7.846153846153846}, {\"age\": 62.0, \"sm_li\": 0, \"income\": 4.821428571428571}, {\"age\": 62.0, \"sm_li\": 1, \"income\": 5.5}, {\"age\": 63.0, \"sm_li\": 0, \"income\": 5.75}, {\"age\": 63.0, \"sm_li\": 1, \"income\": 8.833333333333334}, {\"age\": 64.0, \"sm_li\": 0, \"income\": 6.117647058823529}, {\"age\": 64.0, \"sm_li\": 1, \"income\": 7.25}, {\"age\": 65.0, \"sm_li\": 0, \"income\": 4.964285714285714}, {\"age\": 65.0, \"sm_li\": 1, \"income\": 7.636363636363637}, {\"age\": 66.0, \"sm_li\": 0, \"income\": 5.65}, {\"age\": 66.0, \"sm_li\": 1, \"income\": 8.0}, {\"age\": 67.0, \"sm_li\": 0, \"income\": 6.4}, {\"age\": 67.0, \"sm_li\": 1, \"income\": 7.5}, {\"age\": 68.0, \"sm_li\": 0, \"income\": 5.357142857142857}, {\"age\": 68.0, \"sm_li\": 1, \"income\": 7.333333333333333}, {\"age\": 69.0, \"sm_li\": 0, \"income\": 5.090909090909091}, {\"age\": 69.0, \"sm_li\": 1, \"income\": 8.333333333333334}, {\"age\": 70.0, \"sm_li\": 0, \"income\": 5.9375}, {\"age\": 70.0, \"sm_li\": 1, \"income\": 7.0}, {\"age\": 71.0, \"sm_li\": 0, \"income\": 6.818181818181818}, {\"age\": 71.0, \"sm_li\": 1, \"income\": 8.333333333333334}, {\"age\": 72.0, \"sm_li\": 0, \"income\": 4.875}, {\"age\": 72.0, \"sm_li\": 1, \"income\": 6.857142857142857}, {\"age\": 73.0, \"sm_li\": 0, \"income\": 5.5}, {\"age\": 73.0, \"sm_li\": 1, \"income\": 7.0}, {\"age\": 74.0, \"sm_li\": 0, \"income\": 5.294117647058823}, {\"age\": 75.0, \"sm_li\": 0, \"income\": 6.636363636363637}, {\"age\": 75.0, \"sm_li\": 1, \"income\": 7.0}, {\"age\": 76.0, \"sm_li\": 0, \"income\": 4.333333333333333}, {\"age\": 76.0, \"sm_li\": 1, \"income\": 8.0}, {\"age\": 77.0, \"sm_li\": 0, \"income\": 5.6}, {\"age\": 77.0, \"sm_li\": 1, \"income\": 8.333333333333334}, {\"age\": 78.0, \"sm_li\": 0, \"income\": 6.083333333333333}, {\"age\": 79.0, \"sm_li\": 0, \"income\": 3.25}, {\"age\": 79.0, \"sm_li\": 1, \"income\": 6.0}, {\"age\": 80.0, \"sm_li\": 0, \"income\": 5.818181818181818}, {\"age\": 81.0, \"sm_li\": 0, \"income\": 5.9}, {\"age\": 82.0, \"sm_li\": 0, \"income\": 3.1666666666666665}, {\"age\": 82.0, \"sm_li\": 1, \"income\": 5.5}, {\"age\": 83.0, \"sm_li\": 0, \"income\": 4.428571428571429}, {\"age\": 83.0, \"sm_li\": 1, \"income\": 3.0}, {\"age\": 84.0, \"sm_li\": 0, \"income\": 4.666666666666667}, {\"age\": 85.0, \"sm_li\": 0, \"income\": 3.75}, {\"age\": 86.0, \"sm_li\": 0, \"income\": 5.0}, {\"age\": 87.0, \"sm_li\": 0, \"income\": 4.0}, {\"age\": 88.0, \"sm_li\": 0, \"income\": 2.5}, {\"age\": 89.0, \"sm_li\": 0, \"income\": 4.0}, {\"age\": 90.0, \"sm_li\": 0, \"income\": 5.0}, {\"age\": 92.0, \"sm_li\": 0, \"income\": 5.0}, {\"age\": 93.0, \"sm_li\": 0, \"income\": 6.0}, {\"age\": 94.0, \"sm_li\": 0, \"income\": 4.5}, {\"age\": 97.0, \"sm_li\": 0, \"income\": 2.0}]}}, {\"mode\": \"vega-lite\"});\n",
       "</script>"
      ],
      "text/plain": [
       "alt.Chart(...)"
      ]
     },
     "execution_count": 4,
     "metadata": {},
     "output_type": "execute_result"
    }
   ],
   "source": [
    "ss = pd.DataFrame({\n",
    "    \"sm_li\":clean_sm(s['web1h']),\n",
    "    \"income\":np.where(s['income'] > 9, np.nan, s['income']),\n",
    "    \"education\":np.where(s['educ2'] > 8,np.nan,s['educ2']),\n",
    "    \"parent\":np.where(s['par'] == 1, 1, 0),\n",
    "    \"married\":np.where(s['marital'] == 1, 1, 0),\n",
    "    \"female\":np.where(s['gender'] == 2, 1, 0),\n",
    "    \"age\":np.where(s['age'] > 98, np.nan, s['age'])\n",
    "})\n",
    "\n",
    "ss = ss.dropna()\n",
    "\n",
    "alt.Chart(ss.groupby([\"age\", \"sm_li\"], as_index=False)[\"income\"].mean()).\\\n",
    "mark_circle().\\\n",
    "encode(x=\"age\",\n",
    "      y=\"income\",\n",
    "      color=\"sm_li:N\")"
   ]
  },
  {
   "cell_type": "markdown",
   "id": "aedfd9d4",
   "metadata": {},
   "source": [
    "#### Q4:\n",
    "---"
   ]
  },
  {
   "cell_type": "code",
   "execution_count": 5,
   "id": "9c3fd412",
   "metadata": {},
   "outputs": [],
   "source": [
    "y = ss[\"sm_li\"]\n",
    "X = ss[[\"income\", \"education\", \"parent\", \"married\", \"female\", \"age\"]]"
   ]
  },
  {
   "cell_type": "markdown",
   "id": "7b585128",
   "metadata": {},
   "source": [
    "#### Q5:\n",
    "---"
   ]
  },
  {
   "cell_type": "code",
   "execution_count": 6,
   "id": "b25985dc",
   "metadata": {},
   "outputs": [],
   "source": [
    "X_train, X_test, y_train, y_test = train_test_split(X.values, y.values, stratify=y, test_size=0.2, random_state=952)"
   ]
  },
  {
   "cell_type": "markdown",
   "id": "5785f393",
   "metadata": {},
   "source": [
    "X_train has 80% of the data for predicting the target when training the model. \\\n",
    "X_test has 20% of the data for testing the model on unseen data to evaluate performance.\n",
    "\n",
    "y_train contains 80% of the the data with the target that we will predict while training. \\\n",
    "y_test contains 20% of the data with the target to be predicted on unseen data."
   ]
  },
  {
   "cell_type": "markdown",
   "id": "768f7e73",
   "metadata": {},
   "source": [
    "#### Q6:\n",
    "---"
   ]
  },
  {
   "cell_type": "code",
   "execution_count": 7,
   "id": "acf82ad3",
   "metadata": {},
   "outputs": [
    {
     "data": {
      "text/html": [
       "<style>#sk-container-id-1 {color: black;}#sk-container-id-1 pre{padding: 0;}#sk-container-id-1 div.sk-toggleable {background-color: white;}#sk-container-id-1 label.sk-toggleable__label {cursor: pointer;display: block;width: 100%;margin-bottom: 0;padding: 0.3em;box-sizing: border-box;text-align: center;}#sk-container-id-1 label.sk-toggleable__label-arrow:before {content: \"▸\";float: left;margin-right: 0.25em;color: #696969;}#sk-container-id-1 label.sk-toggleable__label-arrow:hover:before {color: black;}#sk-container-id-1 div.sk-estimator:hover label.sk-toggleable__label-arrow:before {color: black;}#sk-container-id-1 div.sk-toggleable__content {max-height: 0;max-width: 0;overflow: hidden;text-align: left;background-color: #f0f8ff;}#sk-container-id-1 div.sk-toggleable__content pre {margin: 0.2em;color: black;border-radius: 0.25em;background-color: #f0f8ff;}#sk-container-id-1 input.sk-toggleable__control:checked~div.sk-toggleable__content {max-height: 200px;max-width: 100%;overflow: auto;}#sk-container-id-1 input.sk-toggleable__control:checked~label.sk-toggleable__label-arrow:before {content: \"▾\";}#sk-container-id-1 div.sk-estimator input.sk-toggleable__control:checked~label.sk-toggleable__label {background-color: #d4ebff;}#sk-container-id-1 div.sk-label input.sk-toggleable__control:checked~label.sk-toggleable__label {background-color: #d4ebff;}#sk-container-id-1 input.sk-hidden--visually {border: 0;clip: rect(1px 1px 1px 1px);clip: rect(1px, 1px, 1px, 1px);height: 1px;margin: -1px;overflow: hidden;padding: 0;position: absolute;width: 1px;}#sk-container-id-1 div.sk-estimator {font-family: monospace;background-color: #f0f8ff;border: 1px dotted black;border-radius: 0.25em;box-sizing: border-box;margin-bottom: 0.5em;}#sk-container-id-1 div.sk-estimator:hover {background-color: #d4ebff;}#sk-container-id-1 div.sk-parallel-item::after {content: \"\";width: 100%;border-bottom: 1px solid gray;flex-grow: 1;}#sk-container-id-1 div.sk-label:hover label.sk-toggleable__label {background-color: #d4ebff;}#sk-container-id-1 div.sk-serial::before {content: \"\";position: absolute;border-left: 1px solid gray;box-sizing: border-box;top: 0;bottom: 0;left: 50%;z-index: 0;}#sk-container-id-1 div.sk-serial {display: flex;flex-direction: column;align-items: center;background-color: white;padding-right: 0.2em;padding-left: 0.2em;position: relative;}#sk-container-id-1 div.sk-item {position: relative;z-index: 1;}#sk-container-id-1 div.sk-parallel {display: flex;align-items: stretch;justify-content: center;background-color: white;position: relative;}#sk-container-id-1 div.sk-item::before, #sk-container-id-1 div.sk-parallel-item::before {content: \"\";position: absolute;border-left: 1px solid gray;box-sizing: border-box;top: 0;bottom: 0;left: 50%;z-index: -1;}#sk-container-id-1 div.sk-parallel-item {display: flex;flex-direction: column;z-index: 1;position: relative;background-color: white;}#sk-container-id-1 div.sk-parallel-item:first-child::after {align-self: flex-end;width: 50%;}#sk-container-id-1 div.sk-parallel-item:last-child::after {align-self: flex-start;width: 50%;}#sk-container-id-1 div.sk-parallel-item:only-child::after {width: 0;}#sk-container-id-1 div.sk-dashed-wrapped {border: 1px dashed gray;margin: 0 0.4em 0.5em 0.4em;box-sizing: border-box;padding-bottom: 0.4em;background-color: white;}#sk-container-id-1 div.sk-label label {font-family: monospace;font-weight: bold;display: inline-block;line-height: 1.2em;}#sk-container-id-1 div.sk-label-container {text-align: center;}#sk-container-id-1 div.sk-container {/* jupyter's `normalize.less` sets `[hidden] { display: none; }` but bootstrap.min.css set `[hidden] { display: none !important; }` so we also need the `!important` here to be able to override the default hidden behavior on the sphinx rendered scikit-learn.org. See: https://github.com/scikit-learn/scikit-learn/issues/21755 */display: inline-block !important;position: relative;}#sk-container-id-1 div.sk-text-repr-fallback {display: none;}</style><div id=\"sk-container-id-1\" class=\"sk-top-container\"><div class=\"sk-text-repr-fallback\"><pre>LogisticRegression(class_weight=&#x27;balanced&#x27;)</pre><b>In a Jupyter environment, please rerun this cell to show the HTML representation or trust the notebook. <br />On GitHub, the HTML representation is unable to render, please try loading this page with nbviewer.org.</b></div><div class=\"sk-container\" hidden><div class=\"sk-item\"><div class=\"sk-estimator sk-toggleable\"><input class=\"sk-toggleable__control sk-hidden--visually\" id=\"sk-estimator-id-1\" type=\"checkbox\" checked><label for=\"sk-estimator-id-1\" class=\"sk-toggleable__label sk-toggleable__label-arrow\">LogisticRegression</label><div class=\"sk-toggleable__content\"><pre>LogisticRegression(class_weight=&#x27;balanced&#x27;)</pre></div></div></div></div></div>"
      ],
      "text/plain": [
       "LogisticRegression(class_weight='balanced')"
      ]
     },
     "execution_count": 7,
     "metadata": {},
     "output_type": "execute_result"
    }
   ],
   "source": [
    "lr = LogisticRegression(class_weight = 'balanced')\n",
    "lr.fit(X_train, y_train)\n"
   ]
  },
  {
   "cell_type": "markdown",
   "id": "ed465686",
   "metadata": {},
   "source": [
    "#### Q7:\n",
    "---"
   ]
  },
  {
   "cell_type": "code",
   "execution_count": 8,
   "id": "8d2398c3",
   "metadata": {},
   "outputs": [
    {
     "name": "stdout",
     "output_type": "stream",
     "text": [
      "[[115  53]\n",
      " [ 21  63]]\n"
     ]
    }
   ],
   "source": [
    "y_pred = lr.predict(X_test)\n",
    "print(confusion_matrix(y_test, y_pred))"
   ]
  },
  {
   "cell_type": "markdown",
   "id": "a39b82e4",
   "metadata": {},
   "source": [
    "In the confusion Matrix, the top left quadrant symbolizes a Negative-Negative outcome where the prediction that a person would not have LinkedIn was correct, there were 115 correct predictions.\n",
    "\n",
    "The bottom right symbolizes a Positive-Positive prediction where the model correctly predicted a person would have LinkedIn, there were 63 correct predictions.\n",
    "\n",
    "The bottom left quadrant symbolizes a Positive-Negative relationship where the model predicted a person would not have LinkedIn however they actually do, there were 21 incorrect predictions.\n",
    "\n",
    "The top right symbolizes a Negative-Positive relationship where the model predicted a person would have LinkedIn and they did not, there were 53 incorrect predictions."
   ]
  },
  {
   "cell_type": "markdown",
   "id": "05c0392e",
   "metadata": {},
   "source": [
    "#### Q8:\n",
    "---"
   ]
  },
  {
   "cell_type": "code",
   "execution_count": 9,
   "id": "7d443422",
   "metadata": {},
   "outputs": [
    {
     "data": {
      "text/html": [
       "<div>\n",
       "<style scoped>\n",
       "    .dataframe tbody tr th:only-of-type {\n",
       "        vertical-align: middle;\n",
       "    }\n",
       "\n",
       "    .dataframe tbody tr th {\n",
       "        vertical-align: top;\n",
       "    }\n",
       "\n",
       "    .dataframe thead th {\n",
       "        text-align: right;\n",
       "    }\n",
       "</style>\n",
       "<table border=\"1\" class=\"dataframe\">\n",
       "  <thead>\n",
       "    <tr style=\"text-align: right;\">\n",
       "      <th></th>\n",
       "      <th>Predicted negative</th>\n",
       "      <th>Predicted positive</th>\n",
       "    </tr>\n",
       "  </thead>\n",
       "  <tbody>\n",
       "    <tr>\n",
       "      <th>Actual negative</th>\n",
       "      <td>115</td>\n",
       "      <td>53</td>\n",
       "    </tr>\n",
       "    <tr>\n",
       "      <th>Actual positive</th>\n",
       "      <td>21</td>\n",
       "      <td>63</td>\n",
       "    </tr>\n",
       "  </tbody>\n",
       "</table>\n",
       "</div>"
      ],
      "text/plain": [
       "                 Predicted negative  Predicted positive\n",
       "Actual negative                 115                  53\n",
       "Actual positive                  21                  63"
      ]
     },
     "execution_count": 9,
     "metadata": {},
     "output_type": "execute_result"
    }
   ],
   "source": [
    "pd.DataFrame(confusion_matrix(y_test, y_pred),\n",
    "    columns=[\"Predicted negative\", \"Predicted positive\"], index=[\"Actual negative\",\"Actual positive\"])"
   ]
  },
  {
   "cell_type": "markdown",
   "id": "798f1537",
   "metadata": {},
   "source": [
    "#### Q9:\n",
    "---"
   ]
  },
  {
   "cell_type": "code",
   "execution_count": 10,
   "id": "165f56f4",
   "metadata": {},
   "outputs": [
    {
     "name": "stdout",
     "output_type": "stream",
     "text": [
      "Precision: 0.5431034482758621\n",
      "Recall: 0.75\n",
      "F1 Score: 0.63\n"
     ]
    }
   ],
   "source": [
    "precision = (63)/(63+53)\n",
    "print(f\"Precision: {precision}\")\n",
    "recall = (63)/(63+21)\n",
    "print(f\"Recall: {recall}\")\n",
    "f1score = 2 * ((precision*recall)/(precision+recall))\n",
    "print(f\"F1 Score: {f1score}\")"
   ]
  },
  {
   "cell_type": "code",
   "execution_count": 11,
   "id": "625643dc",
   "metadata": {},
   "outputs": [
    {
     "name": "stdout",
     "output_type": "stream",
     "text": [
      "              precision    recall  f1-score   support\n",
      "\n",
      "           0       0.85      0.68      0.76       168\n",
      "           1       0.54      0.75      0.63        84\n",
      "\n",
      "    accuracy                           0.71       252\n",
      "   macro avg       0.69      0.72      0.69       252\n",
      "weighted avg       0.74      0.71      0.71       252\n",
      "\n"
     ]
    }
   ],
   "source": [
    "print(classification_report(y_test, y_pred))"
   ]
  },
  {
   "cell_type": "markdown",
   "id": "4ed98ead",
   "metadata": {},
   "source": [
    "Precision measures the proportion of true positive predictions among all positive predictions, it is helpful when the cost of false positives is high (like in cancer screening).\n",
    "\n",
    "Recall measures the proportion of true positive predictions among all actual positive instances, which could also be critial in a hospital where missed cases can leave a patient untreated, or letting a fraudtser go undetected.\n",
    "\n",
    "F1 score is a balance of the two and where there is uneven class distribution. If you seek a good balance between precision and recall then F1 score is useful."
   ]
  },
  {
   "cell_type": "markdown",
   "id": "b6bf62f8",
   "metadata": {},
   "source": [
    "#### Q10:\n",
    "---"
   ]
  },
  {
   "cell_type": "code",
   "execution_count": 12,
   "id": "3ac1731d",
   "metadata": {},
   "outputs": [
    {
     "name": "stdout",
     "output_type": "stream",
     "text": [
      "Person 1: \n",
      "[1]\n",
      "[[0.30006512 0.69993488]]\n",
      "\n",
      "Person 2: \n",
      "[0]\n",
      "[[0.52931 0.47069]]\n",
      "\n",
      "Person 3: \n",
      "[1]\n",
      "[[0.19628018 0.80371982]]\n",
      "\n",
      "Person 4: \n",
      "[1]\n",
      "[[0.47690719 0.52309281]]\n",
      "\n",
      "Person 5: \n",
      "[0]\n",
      "[[0.68204808 0.31795192]]\n"
     ]
    }
   ],
   "source": [
    "#person1 highincome, highly educated, female married non parent 42 year old\n",
    "person1 = [8, 7, 0, 1, 1, 42]\n",
    "\n",
    "print(\"Person 1: \")\n",
    "print(lr.predict([person1]))\n",
    "print(lr.predict_proba([person1]))\n",
    "\n",
    "#person2 highincome, highly educated, female married non parent 82 year old\n",
    "person2 = [8, 7, 0, 1, 1, 82]\n",
    "\n",
    "print(\"\\nPerson 2: \")\n",
    "print(lr.predict([person2]))\n",
    "print(lr.predict_proba([person2]))\n",
    "\n",
    "# person 3 high income, fairly educated, male non married non parent 23 year old\n",
    "person3 = [8, 6, 0, 0, 0, 23]\n",
    "print(\"\\nPerson 3: \")\n",
    "print(lr.predict([person3]))\n",
    "print(lr.predict_proba([person3]))\n",
    "\n",
    "#person 4 (me) lower income, fairly educated, male, non married, non parent, 21 year old\n",
    "person4 = [3, 6, 0, 0, 0, 21]\n",
    "print(\"\\nPerson 4: \")\n",
    "print(lr.predict([person4]))\n",
    "print(lr.predict_proba([person4]))\n",
    "\n",
    "#person 5 grandpa\n",
    "person5 = [5, 6, 1, 1, 0, 83]\n",
    "print(\"\\nPerson 5: \")\n",
    "print(lr.predict([person5]))\n",
    "print(lr.predict_proba([person5]))"
   ]
  }
 ],
 "metadata": {
  "kernelspec": {
   "display_name": "Python 3 (ipykernel)",
   "language": "python",
   "name": "python3"
  },
  "language_info": {
   "codemirror_mode": {
    "name": "ipython",
    "version": 3
   },
   "file_extension": ".py",
   "mimetype": "text/x-python",
   "name": "python",
   "nbconvert_exporter": "python",
   "pygments_lexer": "ipython3",
   "version": "3.11.5"
  }
 },
 "nbformat": 4,
 "nbformat_minor": 5
}
